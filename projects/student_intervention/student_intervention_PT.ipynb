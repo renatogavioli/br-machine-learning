{
 "cells": [
  {
   "cell_type": "markdown",
   "metadata": {
    "colab_type": "text",
    "id": "LSVYuNfAf35W"
   },
   "source": [
    "# Nanodegree Engenheiro de Machine Learning\n",
    "## Aprendizagem Supervisionada\n",
    "## Projeto 2: Construindo um Sistema de Intervenção para Estudantes"
   ]
  },
  {
   "cell_type": "markdown",
   "metadata": {
    "colab_type": "text",
    "id": "xFnGUcQsf35d"
   },
   "source": [
    "Bem-vindo ao segundo projeto do Nanodegree de Machine Learning! Neste Notebook, alguns templates de código já foram fornecidos, e será o seu trabalho implementar funcionalidades necessárias para completar este projeto com êxito. Seções que começam com **'Implementação'** no cabeçalho indicam que o bloco de código que se segue precisará de funcionalidades adicionais que você deve fornecer. Instruções serão providenciadas para cada seção e as especificações para cada implementação estarão marcadas no bloco de código com o comando `'TODO'`. Tenha certeza de ler atentamente todas as instruções!\n",
    "\n",
    "Além do código implementado, haverá questões relacionadas ao projeto e à implementação que você deve responder. Cada seção em que você tem que responder uma questão será antecedida de um cabeçalho **'Questão X'**. Leia atentamente cada questão e escreva respostas completas nas caixas de texto subsequentes que começam com **'Resposta: '**. O projeto enviado será avaliado baseado nas respostas para cada questão e a implementação que você forneceu.  \n",
    "\n",
    ">**Nota:** Células de código e Markdown podem ser executadas utilizando o atalho de teclado **Shift + Enter**. Além disso, as células Markdown podem ser editadas, um clique duplo na célula entra no modo de edição."
   ]
  },
  {
   "cell_type": "markdown",
   "metadata": {
    "colab_type": "text",
    "id": "jw0oOmdRf35g"
   },
   "source": [
    "### Questão 1 - Classificação versus Regressão\n",
    "*Seu objetivo neste projeto é identificar estudantes que possam precisar de intervenção antecipada antes de serem reprovados. Que tipo de problema de aprendizagem supervisionada é esse: classificação ou regressão? Por quê?*"
   ]
  },
  {
   "cell_type": "markdown",
   "metadata": {
    "colab_type": "text",
    "id": "A__GTkSVf35i"
   },
   "source": [
    "**Resposta: **\n",
    "\n",
    "Trata-se um problema de classificação - o objetivo é classificar cada um dos estudantes em um dentre dois grupos: os que precisam de algum tipo de intervenção, e os que não precisam."
   ]
  },
  {
   "cell_type": "markdown",
   "metadata": {
    "colab_type": "text",
    "id": "rALUDGyzf35l"
   },
   "source": [
    "## Observando os Dados\n",
    "Execute a célula de código abaixo para carregar as bibliotecas de Python necessárias e os dados sobre os estudantes. Note que a última coluna desse conjunto de dados, `'passed'`, será nosso rótulo alvo (se o aluno foi ou não aprovado). As outras colunas são atributos sobre cada aluno."
   ]
  },
  {
   "cell_type": "code",
   "execution_count": 1,
   "metadata": {
    "colab": {
     "autoexec": {
      "startup": false,
      "wait_interval": 0
     }
    },
    "colab_type": "code",
    "id": "NLClx1xTf35p"
   },
   "outputs": [],
   "source": [
    "# Importar bibliotecas\n",
    "import numpy as np\n",
    "import pandas as pd\n",
    "from time import time\n",
    "from sklearn.metrics import f1_score"
   ]
  },
  {
   "cell_type": "code",
   "execution_count": 2,
   "metadata": {
    "colab": {
     "autoexec": {
      "startup": false,
      "wait_interval": 0
     },
     "base_uri": "https://localhost:8080/",
     "height": 34
    },
    "colab_type": "code",
    "executionInfo": {
     "elapsed": 659,
     "status": "ok",
     "timestamp": 1527558282827,
     "user": {
      "displayName": "Renato Gavioli",
      "photoUrl": "//lh5.googleusercontent.com/-2XV18Rk-QvQ/AAAAAAAAAAI/AAAAAAAAAH8/4WHQdmp2vqg/s50-c-k-no/photo.jpg",
      "userId": "104163749637505925630"
     },
     "user_tz": 180
    },
    "id": "jkUoeJXRX8Ia",
    "outputId": "23fdf6a7-09a0-4cba-963b-0319dd14a078"
   },
   "outputs": [
    {
     "name": "stdout",
     "output_type": "stream",
     "text": [
      "Os dados dos estudantes foram lidos com êxito!\n"
     ]
    }
   ],
   "source": [
    "# Ler os dados dos estudantes\n",
    "student_data = pd.read_csv(\"student-data.csv\")\n",
    "print \"Os dados dos estudantes foram lidos com êxito!\""
   ]
  },
  {
   "cell_type": "markdown",
   "metadata": {
    "colab_type": "text",
    "id": "x1kQEM86f352"
   },
   "source": [
    "### Implementação: Observando os Dados\n",
    "Vamos começar observando o conjunto de dados para determinar quantos são os estudantes sobre os quais temos informações e entender a taxa de graduação entre esses estudantes. Na célula de código abaixo, você vai precisar calcular o seguinte:\n",
    "- O número total de estudantes, `n_students`.\n",
    "- O número total de atributos para cada estudante, `n_features`.\n",
    "- O número de estudantes aprovados, `n_passed`.\n",
    "- O número de estudantes reprovados, `n_failed`.\n",
    "- A taxa de graduação da classe, `grad_rate`, em porcentagem (%).\n"
   ]
  },
  {
   "cell_type": "code",
   "execution_count": 3,
   "metadata": {
    "colab": {
     "autoexec": {
      "startup": false,
      "wait_interval": 0
     },
     "base_uri": "https://localhost:8080/",
     "height": 102
    },
    "colab_type": "code",
    "executionInfo": {
     "elapsed": 723,
     "status": "ok",
     "timestamp": 1527558286204,
     "user": {
      "displayName": "Renato Gavioli",
      "photoUrl": "//lh5.googleusercontent.com/-2XV18Rk-QvQ/AAAAAAAAAAI/AAAAAAAAAH8/4WHQdmp2vqg/s50-c-k-no/photo.jpg",
      "userId": "104163749637505925630"
     },
     "user_tz": 180
    },
    "id": "v67Vis62f354",
    "outputId": "e2cd05f8-0e75-4423-af3b-35bf54a251d0"
   },
   "outputs": [
    {
     "name": "stdout",
     "output_type": "stream",
     "text": [
      "Número total de estudantes: 395\n",
      "Número de atributos: 30\n",
      "Número de estudantes aprovados: 265\n",
      "Número de estudantes reprovados: 130\n",
      "Taxa de graduação: 67.09%\n"
     ]
    }
   ],
   "source": [
    "# Importa o comportamento de divisao do Python 3 (divisão de inteiros resulta em float)\n",
    "from __future__ import division\n",
    "\n",
    "# Calcule o número de estudantes\n",
    "n_students = student_data.shape[0]\n",
    "\n",
    "# Calcule o número de atributos\n",
    "n_features = student_data.shape[1]-1 \n",
    "\n",
    "# Calcule o número de alunos aprovados\n",
    "n_passed = student_data[\"passed\"].value_counts()[\"yes\"]\n",
    "\n",
    "# Calcule o número de alunos reprovados\n",
    "n_failed = student_data[\"passed\"].value_counts()[\"no\"]\n",
    "\n",
    "# Calcule a taxa de graduação\n",
    "grad_rate = n_passed/n_students*100\n",
    "\n",
    "# Imprima os resultados\n",
    "print \"Número total de estudantes: {}\".format(n_students)\n",
    "print \"Número de atributos: {}\".format(n_features)\n",
    "print \"Número de estudantes aprovados: {}\".format(n_passed)\n",
    "print \"Número de estudantes reprovados: {}\".format(n_failed)\n",
    "print \"Taxa de graduação: {:.2f}%\".format(grad_rate)"
   ]
  },
  {
   "cell_type": "markdown",
   "metadata": {
    "colab_type": "text",
    "id": "2Lbi_Miff36R"
   },
   "source": [
    "## Preparando os Dados\n",
    "Nesta seção, vamos preparara os dados para modelagem, treinamento e teste.\n",
    "\n",
    "### Identificar atributos e variáveis-alvo\n",
    "É comum que os dados que você obteve contenham atributos não numéricos. Isso pode ser um problema, dado que a maioria dos algoritmos de machine learning esperam dados númericos para operar cálculos.\n",
    "\n",
    "Execute a célula de código abaixo para separar os dados dos estudantes em atributos e variáveis-alvo e verificar se algum desses atributos é não numérico."
   ]
  },
  {
   "cell_type": "code",
   "execution_count": 4,
   "metadata": {
    "colab": {
     "autoexec": {
      "startup": false,
      "wait_interval": 0
     },
     "base_uri": "https://localhost:8080/",
     "height": 513
    },
    "colab_type": "code",
    "executionInfo": {
     "elapsed": 615,
     "status": "ok",
     "timestamp": 1527558312847,
     "user": {
      "displayName": "Renato Gavioli",
      "photoUrl": "//lh5.googleusercontent.com/-2XV18Rk-QvQ/AAAAAAAAAAI/AAAAAAAAAH8/4WHQdmp2vqg/s50-c-k-no/photo.jpg",
      "userId": "104163749637505925630"
     },
     "user_tz": 180
    },
    "id": "gzX5QIW8f36V",
    "outputId": "abf85502-adee-4064-8c5a-5f2b24722c27"
   },
   "outputs": [
    {
     "name": "stdout",
     "output_type": "stream",
     "text": [
      "Colunas de atributos:\n",
      "['school', 'sex', 'age', 'address', 'famsize', 'Pstatus', 'Medu', 'Fedu', 'Mjob', 'Fjob', 'reason', 'guardian', 'traveltime', 'studytime', 'failures', 'schoolsup', 'famsup', 'paid', 'activities', 'nursery', 'higher', 'internet', 'romantic', 'famrel', 'freetime', 'goout', 'Dalc', 'Walc', 'health', 'absences']\n",
      "\n",
      "Coluna-alvo: passed\n",
      "\n",
      "Feature values:\n",
      "  school sex  age address famsize Pstatus  Medu  Fedu     Mjob      Fjob  \\\n",
      "0     GP   F   18       U     GT3       A     4     4  at_home   teacher   \n",
      "1     GP   F   17       U     GT3       T     1     1  at_home     other   \n",
      "2     GP   F   15       U     LE3       T     1     1  at_home     other   \n",
      "3     GP   F   15       U     GT3       T     4     2   health  services   \n",
      "4     GP   F   16       U     GT3       T     3     3    other     other   \n",
      "\n",
      "    ...    higher internet  romantic  famrel  freetime goout Dalc Walc health  \\\n",
      "0   ...       yes       no        no       4         3     4    1    1      3   \n",
      "1   ...       yes      yes        no       5         3     3    1    1      3   \n",
      "2   ...       yes      yes        no       4         3     2    2    3      3   \n",
      "3   ...       yes      yes       yes       3         2     2    1    1      5   \n",
      "4   ...       yes       no        no       4         3     2    1    2      5   \n",
      "\n",
      "  absences  \n",
      "0        6  \n",
      "1        4  \n",
      "2       10  \n",
      "3        2  \n",
      "4        4  \n",
      "\n",
      "[5 rows x 30 columns]\n"
     ]
    }
   ],
   "source": [
    "# Extraia as colunas dos atributos\n",
    "feature_cols = list(student_data.columns[:-1])\n",
    "\n",
    "# Extraia a coluna-alvo 'passed'\n",
    "target_col = student_data.columns[-1] \n",
    "\n",
    "# Mostre a lista de colunas\n",
    "print \"Colunas de atributos:\\n{}\".format(feature_cols)\n",
    "print \"\\nColuna-alvo: {}\".format(target_col)\n",
    "\n",
    "# Separe os dados em atributos e variáveis-alvo (X_all e y_all, respectivamente)\n",
    "X_all = student_data[feature_cols]\n",
    "y_all = student_data[target_col]\n",
    "\n",
    "# Mostre os atributos imprimindo as cinco primeiras linhas\n",
    "print \"\\nFeature values:\"\n",
    "print X_all.head()"
   ]
  },
  {
   "cell_type": "markdown",
   "metadata": {
    "colab_type": "text",
    "id": "8xfePe6ff36c"
   },
   "source": [
    "### Pré-processar Colunas de Atributo\n",
    "\n",
    "Como você pode ver, há muitas colunas não numéricas que precisam ser convertidas! Muitas delas são simplesmente `yes`/`no`, por exemplo, a coluna `internet`. É razoável converter essas variáveis em valores (binários) `1`/`0`.\n",
    "\n",
    "Outras colunas, como `Mjob` e `Fjob`, têm mais do que dois valores e são conhecidas como variáveis categóricas. A maneira recomendada de lidar com esse tipo de coluna é criar uma quantidade de colunas proporcional aos possíveis valores (por exemplo, `Fjob_teacher`, `Fjob_other`, `Fjob_services`, etc), e assinalar `1` para um deles e `0` para todos os outros.\n",
    "\n",
    "Essas colunas geradas são por vezes chamadas de _variáveis postiças_ (_dummy variables_), e nós iremos utilizar a função [`pandas.get_dummies()`](http://pandas.pydata.org/pandas-docs/stable/generated/pandas.get_dummies.html?highlight=get_dummies#pandas.get_dummies) para fazer essa conversão. Execute a célula de código abaixo para executar a rotina de pré-processamento discutida nesta seção."
   ]
  },
  {
   "cell_type": "code",
   "execution_count": 5,
   "metadata": {
    "colab": {
     "autoexec": {
      "startup": false,
      "wait_interval": 0
     },
     "base_uri": "https://localhost:8080/",
     "height": 71
    },
    "colab_type": "code",
    "executionInfo": {
     "elapsed": 628,
     "status": "ok",
     "timestamp": 1527558333794,
     "user": {
      "displayName": "Renato Gavioli",
      "photoUrl": "//lh5.googleusercontent.com/-2XV18Rk-QvQ/AAAAAAAAAAI/AAAAAAAAAH8/4WHQdmp2vqg/s50-c-k-no/photo.jpg",
      "userId": "104163749637505925630"
     },
     "user_tz": 180
    },
    "id": "qtTneDW0f36f",
    "outputId": "89228016-99f5-4a0d-a7f5-c4c945db948e"
   },
   "outputs": [
    {
     "name": "stdout",
     "output_type": "stream",
     "text": [
      "Processed feature columns (48 total features):\n",
      "['school_GP', 'school_MS', 'sex_F', 'sex_M', 'age', 'address_R', 'address_U', 'famsize_GT3', 'famsize_LE3', 'Pstatus_A', 'Pstatus_T', 'Medu', 'Fedu', 'Mjob_at_home', 'Mjob_health', 'Mjob_other', 'Mjob_services', 'Mjob_teacher', 'Fjob_at_home', 'Fjob_health', 'Fjob_other', 'Fjob_services', 'Fjob_teacher', 'reason_course', 'reason_home', 'reason_other', 'reason_reputation', 'guardian_father', 'guardian_mother', 'guardian_other', 'traveltime', 'studytime', 'failures', 'schoolsup', 'famsup', 'paid', 'activities', 'nursery', 'higher', 'internet', 'romantic', 'famrel', 'freetime', 'goout', 'Dalc', 'Walc', 'health', 'absences']\n"
     ]
    }
   ],
   "source": [
    "def preprocess_features(X):\n",
    "    ''' Pré-processa os dados dos estudantes e converte as variáveis binárias não numéricas em\n",
    "        variáveis binárias (0/1). Converte variáveis categóricas em variáveis postiças. '''\n",
    "    \n",
    "    # Inicialize nova saída DataFrame\n",
    "    output = pd.DataFrame(index = X.index)\n",
    "\n",
    "    # Observe os dados em cada coluna de atributos \n",
    "    for col, col_data in X.iteritems():\n",
    "        \n",
    "        # Se o tipo de dado for não numérico, substitua todos os valores yes/no por 1/0\n",
    "        if col_data.dtype == object:\n",
    "            col_data = col_data.replace(['yes', 'no'], [1, 0])\n",
    "\n",
    "        # Se o tipo de dado for categórico, converta-o para uma variável dummy\n",
    "        if col_data.dtype == object:\n",
    "            # Example: 'school' => 'school_GP' and 'school_MS'\n",
    "            col_data = pd.get_dummies(col_data, prefix = col)  \n",
    "        \n",
    "        # Reúna as colunas revisadas\n",
    "        output = output.join(col_data)\n",
    "    \n",
    "    return output\n",
    "\n",
    "X_all = preprocess_features(X_all)\n",
    "print \"Processed feature columns ({} total features):\\n{}\".format(len(X_all.columns), list(X_all.columns))"
   ]
  },
  {
   "cell_type": "markdown",
   "metadata": {
    "colab_type": "text",
    "id": "JFppLztEf36m"
   },
   "source": [
    "### Implementação: Divisão dos Dados de Treinamento e Teste\n",
    "Até agora, nós convertemos todos os atributos _categóricos_ em valores numéricos. Para o próximo passo, vamos dividir os dados (tanto atributos como os rótulos correspondentes) em conjuntos de treinamento e teste. Na célula de código abaixo, você irá precisar implementar o seguinte:\n",
    "- Embaralhe aleatoriamente os dados (`X_all`, `y_all`) em subconjuntos de treinamento e teste.\n",
    "  - Utilizar 300 pontos de treinamento (aproxidamente 75%) e 95 pontos de teste (aproximadamente 25%).\n",
    "  - Estabelecer um `random_state` para as funções que você utiliza, se a opção existir.\n",
    "  - Armazene os resultados em `X_train`, `X_test`, `y_train` e `y_test`."
   ]
  },
  {
   "cell_type": "code",
   "execution_count": 6,
   "metadata": {
    "colab": {
     "autoexec": {
      "startup": false,
      "wait_interval": 0
     },
     "base_uri": "https://localhost:8080/",
     "height": 51
    },
    "colab_type": "code",
    "executionInfo": {
     "elapsed": 607,
     "status": "ok",
     "timestamp": 1527558339856,
     "user": {
      "displayName": "Renato Gavioli",
      "photoUrl": "//lh5.googleusercontent.com/-2XV18Rk-QvQ/AAAAAAAAAAI/AAAAAAAAAH8/4WHQdmp2vqg/s50-c-k-no/photo.jpg",
      "userId": "104163749637505925630"
     },
     "user_tz": 180
    },
    "id": "z_xP4ASJf36p",
    "outputId": "2b66f829-ea75-452e-d816-e61001e0513d"
   },
   "outputs": [
    {
     "name": "stdout",
     "output_type": "stream",
     "text": [
      "O conjunto de treinamento tem 300 amostras.\n",
      "O conjunto de teste tem 95 amostras.\n"
     ]
    }
   ],
   "source": [
    "# Importa módulo de randomização e separação de conjuntos de treino e teste\n",
    "from sklearn.model_selection import train_test_split \n",
    "\n",
    "# Estabeleça o número de pontos de treinamento\n",
    "NUM_TRAIN = 300\n",
    "\n",
    "# Estabeleça o número de pontos de teste\n",
    "NUM_TEST = X_all.shape[0] - NUM_TRAIN\n",
    "\n",
    "# Emabaralhe e distribua o conjunto de dados de acordo com o número de pontos de treinamento e teste abaixo\n",
    "X_train, X_test, y_train, y_test = train_test_split(X_all, y_all, test_size=NUM_TEST, shuffle=True, random_state=42)\n",
    "\n",
    "# Mostre o resultado da distribuição\n",
    "print \"O conjunto de treinamento tem {} amostras.\".format(X_train.shape[0])\n",
    "print \"O conjunto de teste tem {} amostras.\".format(X_test.shape[0])"
   ]
  },
  {
   "cell_type": "markdown",
   "metadata": {
    "colab_type": "text",
    "id": "pOj4mM45f36w"
   },
   "source": [
    "## Treinando e Avaliando Modelos\n",
    "Nesta seção, você irá escolher 3 modelos de aprendizagem supervisionada que sejam apropriados para esse problema e que estejam disponíveis no `scikit-learn`. Primeiro você irá discutir o raciocínio por trás da escolha desses três modelos considerando suas vantagens e desvantagens e o que você sabe sobre os dados. Depois você irá ajustar o modelo a diferentes tamanhos de conjuntos de treinamento (com 100, 200 e 300 pontos) e medir a pontuação F<sub>1</sub>. Você vai precisar preencher três tabelas (uma para cada modelo) que mostrem o tamanho do conjunto de treinamento, o tempo de treinamento, o tempo de previsão e a pontuação F<sub>1</sub> no conjunto de treinamento.\n",
    "\n",
    "**Os seguintes modelos de aprendizagem supervisionada estão atualmente disponíveis no **[`scikit-learn`](http://scikit-learn.org/stable/supervised_learning.html)** para você escolher:**\n",
    "- Gaussian Naive Bayes (GaussianNB)\n",
    "- Árvores de Decisão\n",
    "- Métodos de agregação (Bagging, AdaBoost, Random Forest, Gradient Boosting)\n",
    "- K-Nearest Neighbors (KNeighbors)\n",
    "- Método do gradiente estocástico (SGDC)\n",
    "- Máquinas de vetores de suporte (SVM)\n",
    "- Regressão logística"
   ]
  },
  {
   "cell_type": "markdown",
   "metadata": {
    "colab_type": "text",
    "id": "RHaW46Z8f36y"
   },
   "source": [
    "### Questão 2 - Aplicação dos Modelos\n",
    "*Liste três modelos de aprendizagem supervisionada que são apropriadas para esse problema. Para cada modelo escolhido:*\n",
    "- Descreva uma aplicação em mundo real na indústria em que o modelo pode ser aplicado. *(Talvez você precise fazer um pouco de pesquisa para responder essa questão – dê as devidas referências!)* \n",
    "- Quais são as vantagens do modelo; quando ele tem desempenho melhor? \n",
    "- Quais são as desvantagens do modelo, quando ele tem desempenho pior?\n",
    "- O que faz desse modelo um bom candidato para o problema, considerando o que você sabe sobre os dados?"
   ]
  },
  {
   "cell_type": "markdown",
   "metadata": {
    "colab_type": "text",
    "id": "H0cgOJ5Of361"
   },
   "source": [
    "**Resposta: **\n",
    "\n",
    "Serão utilizados os modelos *Logistic Regression, Support Vector Machines (SVMs) e K-Nearest Neighbors*.\n",
    "\n",
    "**Logistic Regression**\n",
    "\n",
    "Este classificador foi escolhido por conta de sua simplicidade e por ser um modelo apropriado para dados discretos, e para classificar respostas binárias. Uma desvantagem deste modelo é presumir que as variáveis sejam independentes, o que pode não ser verdade para todas as variáveis para este conjunto de dados. \n",
    "\n",
    "Este modelo é utilizado para diversas aplicações como, por exemplo, predição de risco de desenvolvimento de doenças, predição de falha de componentes de engenharia, predição da chance de um consumidor adquirir um bem ou serviço (https://en.wikipedia.org/wiki/Logistic_regression#Fields_and_example_applications).\n",
    "\n",
    "O modelo foi escolhido devido à característica binária da variável resposta, e por conta do conjunto de dados ser composto de um número relativamente grande de variáveis categóricas.\n",
    "\n",
    "**Support Vector Machine**\n",
    "\n",
    "Este modelo é apropriado para classificação e para regressão de dados multivariados, sendo capaz de lidar também com dados contínuos. O modelo cria fronteiras na forma de hiperplanos, capazes de separar os dados em diferentes categorias, podendo ser uma classificação não-binária. Uma limitação é o fato de estas fronteiras - hiperplanos - serem lineares, sendo necessário fazer uso do *kernel trick* para contornar esta limitação, o que pode aumentar o esforço de ajuste do modelo.\n",
    "\n",
    "SVM é aplicado com sucesso emciências biológicas para classificar proteínas e outros compostos. Além disso, ele também é aplicado em análise e categorização de texto e classificação de imagens (https://en.wikipedia.org/wiki/Support_vector_machine#Applications).\n",
    "\n",
    "A escolha deste algoritmo aqui foi motivada também pela sua relativa simplicidade e eficiência em classificação de dados.\n",
    "\n",
    "**K-Nearest Neighbors**\n",
    "\n",
    "Este algoritmo classifica uma observação com base nos valores obtidos para os *K* vizinhos mais próximos. Devido a esta característica, o custo computacional para treinamento é relativamente baixo, porém o custo computacional para teste e predição acaba podendo tornar-se elevado. Este modelo também pode ser sensível a outliers, além de sofrer da *maldição da dimensionalidade*.\n",
    "\n",
    "Este algoritmo é utilizado na classificação de documentos e diagnóstico de câncer (https://ieeexplore.ieee.org/document/7951888/, https://www.ncbi.nlm.nih.gov/pmc/articles/PMC2243774/).\n",
    "\n",
    "Este algoritmo foi escolhido diante da base de dados relativamente pequena e pouca exigência em termos de predição, de modo que o custo computacional para teste e predição não deveria se tornar um gargalo."
   ]
  },
  {
   "cell_type": "markdown",
   "metadata": {
    "colab_type": "text",
    "id": "NLwran4hf363"
   },
   "source": [
    "### Configuração\n",
    "Execute a célula de código abaixo para inicializar três funções de ajuda que você pode utilizar para treinar e testar os três modelos de aprendizagem supervisionada que você escolheu acima. As funções são as seguintes:\n",
    "- `train_classifier` - recebe como parâmetro um classificador e dados de treinamento e ajusta o classificador aos dados.\n",
    "- `predict_labels` - recebe como parâmetro um classificador ajustado, atributos e rótulo alvo e faz estimativas utilizando a pontuação do F<sub>1</sub>.\n",
    "- `train_predict` - recebe como entrada um classificador, e dados de treinamento e teste, e executa `train_clasifier` e `predict_labels`.\n",
    " - Essa função vai dar a pontuação F<sub>1</sub> tanto para os dados de treinamento como para os de teste, separadamente."
   ]
  },
  {
   "cell_type": "code",
   "execution_count": 7,
   "metadata": {
    "colab": {
     "autoexec": {
      "startup": false,
      "wait_interval": 0
     }
    },
    "colab_type": "code",
    "id": "pv9vMpRAf366"
   },
   "outputs": [],
   "source": [
    "def train_classifier(clf, X_train, y_train):\n",
    "    ''' Ajusta um classificador para os dados de treinamento. '''\n",
    "    \n",
    "    # Inicia o relógio, treina o classificador e, então, para o relógio\n",
    "    start = time()\n",
    "    clf.fit(X_train, y_train)\n",
    "    end = time()\n",
    "    \n",
    "    # Imprime os resultados\n",
    "    print \"O modelo foi treinado em {:.4f} segundos\".format(end - start)\n",
    "\n",
    "    \n",
    "def predict_labels(clf, features, target):\n",
    "    ''' Faz uma estimativa utilizando um classificador ajustado baseado na pontuação F1. '''\n",
    "    \n",
    "    # Inicia o relógio, faz estimativas e, então, o relógio para\n",
    "    start = time()\n",
    "    y_pred = clf.predict(features)\n",
    "    end = time()\n",
    "    \n",
    "    # Imprime os resultados de retorno\n",
    "    print \"As previsões foram feitas em {:.4f} segundos.\".format(end - start)\n",
    "    return f1_score(target.values, y_pred, pos_label='yes')\n",
    "\n",
    "\n",
    "def train_predict(clf, X_train, y_train, X_test, y_test):\n",
    "    ''' Treina e faz estimativas utilizando um classificador baseado na pontuação do F1. '''\n",
    "    \n",
    "    # Indica o tamanho do classificador e do conjunto de treinamento\n",
    "    print \"Treinando um {} com {} pontos de treinamento. . .\".format(clf.__class__.__name__, len(X_train))\n",
    "    \n",
    "    # Treina o classificador\n",
    "    train_classifier(clf, X_train, y_train)\n",
    "    \n",
    "    # Imprime os resultados das estimativas de ambos treinamento e teste\n",
    "    print \"Pontuação F1 para o conjunto de treino: {:.4f}.\".format(predict_labels(clf, X_train, y_train))\n",
    "    print \"Pontuação F1 para o conjunto de teste: {:.4f}.\".format(predict_labels(clf, X_test, y_test))"
   ]
  },
  {
   "cell_type": "markdown",
   "metadata": {
    "colab_type": "text",
    "id": "p00bTX57f37B"
   },
   "source": [
    "### Implementação: Métricas de Desempenho do Modelo\n",
    "Com as funções acima, você vai importar os três modelos de aprendizagem supervisionada de sua escolha e executar a função `train_prediction` para cada um deles. Lembre-se de que você vai precisar treinar e usar cada classificador para três diferentes tamanhos de conjuntos de treinamentos: 100, 200 e 300 pontos. Então você deve ter 9 saídas diferentes abaixo – 3 para cada modelo utilizando cada tamanho de conjunto de treinamento. Na célula de código a seguir, você deve implementar o seguinte:\n",
    "- Importe os três modelos de aprendizagem supervisionada que você escolheu na seção anterior.\n",
    "- Inicialize os três modelos e armazene eles em `clf_A`, `clf_B` e `clf_C`.\n",
    " - Defina um `random_state` para cada modelo, se a opção existir.\n",
    " - **Nota:** Utilize as configurações padrão para cada modelo – você vai calibrar um modelo específico em uma seção posterior.\n",
    "- Crie diferentes tamanhos de conjuntos de treinamento para treinar cada modelo.\n",
    " - *Não embaralhe e distribua novamente os dados! Os novos pontos de treinamento devem ser tirados de `X_train` e `y_train`.*\n",
    "- Treine cada modelo com cada tamanho de conjunto de treinamento e faça estimativas com o conjunto de teste (9 vezes no total).  \n",
    "**Nota:** Três tabelas são fornecidas depois da célula de código a seguir, nas quais você deve anotar seus resultados."
   ]
  },
  {
   "cell_type": "code",
   "execution_count": 8,
   "metadata": {
    "colab": {
     "autoexec": {
      "startup": false,
      "wait_interval": 0
     },
     "base_uri": "https://localhost:8080/",
     "height": 1088
    },
    "colab_type": "code",
    "executionInfo": {
     "elapsed": 602,
     "status": "ok",
     "timestamp": 1527558397362,
     "user": {
      "displayName": "Renato Gavioli",
      "photoUrl": "//lh5.googleusercontent.com/-2XV18Rk-QvQ/AAAAAAAAAAI/AAAAAAAAAH8/4WHQdmp2vqg/s50-c-k-no/photo.jpg",
      "userId": "104163749637505925630"
     },
     "user_tz": 180
    },
    "id": "QaQuEcIEf37E",
    "outputId": "cf09fa0d-83d5-4809-cfe4-a3dc370728f2"
   },
   "outputs": [
    {
     "name": "stdout",
     "output_type": "stream",
     "text": [
      "Treinando um LogisticRegression com 100 pontos de treinamento. . .\n",
      "O modelo foi treinado em 0.0240 segundos\n",
      "As previsões foram feitas em 0.0120 segundos.\n",
      "Pontuação F1 para o conjunto de treino: 0.8593.\n",
      "As previsões foram feitas em 0.0000 segundos.\n",
      "Pontuação F1 para o conjunto de teste: 0.7647.\n",
      "\n",
      "Treinando um LogisticRegression com 200 pontos de treinamento. . .\n",
      "O modelo foi treinado em 0.0040 segundos\n",
      "As previsões foram feitas em 0.0030 segundos.\n",
      "Pontuação F1 para o conjunto de treino: 0.8562.\n",
      "As previsões foram feitas em 0.0000 segundos.\n",
      "Pontuação F1 para o conjunto de teste: 0.7914.\n",
      "\n",
      "Treinando um LogisticRegression com 300 pontos de treinamento. . .\n",
      "O modelo foi treinado em 0.0040 segundos\n",
      "As previsões foram feitas em 0.0000 segundos.\n",
      "Pontuação F1 para o conjunto de treino: 0.8468.\n",
      "As previsões foram feitas em 0.0000 segundos.\n",
      "Pontuação F1 para o conjunto de teste: 0.8060.\n",
      "\n",
      "Treinando um SVC com 100 pontos de treinamento. . .\n",
      "O modelo foi treinado em 0.0040 segundos\n",
      "As previsões foram feitas em 0.0000 segundos.\n",
      "Pontuação F1 para o conjunto de treino: 0.8777.\n",
      "As previsões foram feitas em 0.0000 segundos.\n",
      "Pontuação F1 para o conjunto de teste: 0.7746.\n",
      "\n",
      "Treinando um SVC com 200 pontos de treinamento. . .\n",
      "O modelo foi treinado em 0.0040 segundos\n",
      "As previsões foram feitas em 0.0000 segundos.\n",
      "Pontuação F1 para o conjunto de treino: 0.8679.\n",
      "As previsões foram feitas em 0.0040 segundos.\n",
      "Pontuação F1 para o conjunto de teste: 0.7815.\n",
      "\n",
      "Treinando um SVC com 300 pontos de treinamento. . .\n",
      "O modelo foi treinado em 0.0080 segundos\n",
      "As previsões foram feitas em 0.0040 segundos.\n",
      "Pontuação F1 para o conjunto de treino: 0.8761.\n",
      "As previsões foram feitas em 0.0040 segundos.\n",
      "Pontuação F1 para o conjunto de teste: 0.7838.\n",
      "\n",
      "Treinando um KNeighborsClassifier com 100 pontos de treinamento. . .\n",
      "O modelo foi treinado em 0.0040 segundos\n",
      "As previsões foram feitas em 0.0000 segundos.\n",
      "Pontuação F1 para o conjunto de treino: 0.8060.\n",
      "As previsões foram feitas em 0.0040 segundos.\n",
      "Pontuação F1 para o conjunto de teste: 0.7246.\n",
      "\n",
      "Treinando um KNeighborsClassifier com 200 pontos de treinamento. . .\n",
      "O modelo foi treinado em 0.0000 segundos\n",
      "As previsões foram feitas em 0.0040 segundos.\n",
      "Pontuação F1 para o conjunto de treino: 0.8800.\n",
      "As previsões foram feitas em 0.0000 segundos.\n",
      "Pontuação F1 para o conjunto de teste: 0.7692.\n",
      "\n",
      "Treinando um KNeighborsClassifier com 300 pontos de treinamento. . .\n",
      "O modelo foi treinado em 0.0010 segundos\n",
      "As previsões foram feitas em 0.0050 segundos.\n",
      "Pontuação F1 para o conjunto de treino: 0.8809.\n",
      "As previsões foram feitas em 0.0000 segundos.\n",
      "Pontuação F1 para o conjunto de teste: 0.7801.\n",
      "\n"
     ]
    }
   ],
   "source": [
    "# Importe os três modelos de aprendizagem supervisionada do sklearn\n",
    "from sklearn.linear_model import LogisticRegression\n",
    "from sklearn.svm import SVC\n",
    "from sklearn.neighbors import KNeighborsClassifier\n",
    "\n",
    "# Inicialize os três modelos\n",
    "clf_A = LogisticRegression()\n",
    "clf_B = SVC()\n",
    "clf_C = KNeighborsClassifier()\n",
    "\n",
    "# Configure os tamanho dos conjuntos de treinamento. \n",
    "# Os dados já foram randomizados, então será tomado um subset a partir do começo\n",
    "X_train_100 = X_train.iloc[0:100]\n",
    "y_train_100 = y_train.iloc[0:100]\n",
    "\n",
    "X_train_200 = X_train.iloc[0:200]\n",
    "y_train_200 = y_train.iloc[0:200]\n",
    "\n",
    "X_train_300 = X_train\n",
    "y_train_300 = y_train\n",
    "\n",
    "classifiers = [clf_A, clf_B, clf_C]\n",
    "X_train_sets = [X_train_100, X_train_200, X_train]\n",
    "y_train_sets = [y_train_100, y_train_200, y_train]\n",
    "\n",
    "# Executar a função 'train_predict' para cada classificador e cada tamanho de conjunto de treinamento\n",
    "for clf in classifiers:\n",
    "    for X_train, y_train in zip(X_train_sets, y_train_sets):\n",
    "        train_predict(clf, X_train, y_train, X_test, y_test)\n",
    "        print \"\""
   ]
  },
  {
   "cell_type": "markdown",
   "metadata": {
    "colab_type": "text",
    "id": "fRFX2i5Mf37L"
   },
   "source": [
    "### Resultados em tabelas\n",
    "Edite a célula abaixo e veja como a tabela pode ser desenhada em [Markdown](https://github.com/adam-p/markdown-here/wiki/Markdown-Cheatsheet#tables). Você deve salvar seus resultados abaixo nas tabelas fornecidas."
   ]
  },
  {
   "cell_type": "markdown",
   "metadata": {
    "colab_type": "text",
    "id": "0qUVwf2Mf37P"
   },
   "source": [
    "** Classificador 1 - LogisticRegression **  \n",
    "\n",
    "| Tamanho do Conjunto de Treinamento | Tempo de Treinamento (s) | Tempo de Estimativa (teste) (s) | Pontuação F1 (treinamento) | Pontuação F1 (teste) |\n",
    "| :--------------------------------: | :------------------: | :-------------------------: | :------------------------: | :------------------: |\n",
    "| 100 | 0.0015 | 0.0002 | 0.8593 | 0.7647 |\n",
    "| 200 | 0.0022 | 0.0002 | 0.8562 | 0.7914 |\n",
    "| 300 | 0.0028 | 0.0002 | 0.8468 | 0.8060 |\n",
    "\n",
    "** Classificador 2 - SVC**  \n",
    "\n",
    "| Tamanho do Conjunto de Treinamento | Tempo de Treinamento (s)| Tempo de Estimativa (teste) (s)| Pontuação F1 (treinamento) | Pontuação F1 (teste) |\n",
    "| :--------------------------------: | :------------------: | :-------------------------: | :------------------------: | :------------------: |\n",
    "| 100   |0.0021 |0.0012 |0.8777 |0.7746 |\n",
    "| 200   |0.0047 |0.0017 | 0.8679|0.7815 |\n",
    "| 300   |0.0100 | 0.0025  |0.8761 |0.7838 |\n",
    "\n",
    "** Classificador 3 - KNeighborsClassifier**  \n",
    "\n",
    "| Tamanho do Conjunto de Treinamento | Tempo de Treinamento (s)| Tempo de Estimativa (teste) (s)| Pontuação F1 (treinamento) | Pontuação F1 (teste) |\n",
    "| :--------------------------------: | :------------------: | :-------------------------: | :------------------------: | :------------------: |\n",
    "| 100 | 0.0010 | 0.0016 | 0.8060 | 0.7246 |\n",
    "| 200 | 0.0010 | 0.0021 | 0.8800 | 0.7692 |\n",
    "| 300 | 0.0012 | 0.0027 | 0.8809 | 0.7801 |"
   ]
  },
  {
   "cell_type": "markdown",
   "metadata": {
    "colab_type": "text",
    "id": "xxfyoSFRf37R"
   },
   "source": [
    "## Escolhendo o Melhor Modelo\n",
    "Nesta seção final, você irá escolher dos três modelos de aprendizagem supervisionada o *melhor* para utilizar os dados dos estudantes. Você então executará um busca em matriz otimizada para o modelo em todo o conjunto de treinamento (`X_train` e `y_train`) ao calibrar pelo menos um parâmetro, melhorando em comparação a pontuação F<sub>1</sub> do modelo não calibrado. "
   ]
  },
  {
   "cell_type": "markdown",
   "metadata": {
    "colab_type": "text",
    "id": "50zcY7cGf37U"
   },
   "source": [
    "### Questão 3 - Escolhendo o Melhor Modelo\n",
    "*Baseando-se nos experimentos que você executou até agora, explique em um ou dois parágrafos ao conselho de supervisores qual modelo que você escolheu como o melhor. Qual modelo é o mais apropriado baseado nos dados disponíveis, recursos limitados, custo e desempenho?*"
   ]
  },
  {
   "cell_type": "markdown",
   "metadata": {
    "colab_type": "text",
    "id": "yOffTAOuf37X"
   },
   "source": [
    "**Resposta: **\n",
    "\n",
    "O modelo mais apropriado foi o de *regressão logística (LogisticRegression)*. Este modelo apresentou um bom desempenho pelo score F1, tanto para treinamento quanto para teste. Os outros dois modelos apresentaram score F1 para treino batante elevado, porém os scores F1 de teste se mostraram baixos, o que é uma indicação de sobreajuste *(overfitting)*.\n",
    "\n",
    "Além disso, de todos os modelos o modelo de *regressão logística* apresentou melhor desempenho computacional, com tempo de treinamento da mesma ordem de grandeza do tempo de teste para o modelo KNN. O modelo SVC apresentou os piores índices de desempenho computacional dentre os três."
   ]
  },
  {
   "cell_type": "markdown",
   "metadata": {
    "colab_type": "text",
    "id": "tB0c1KzWf37b"
   },
   "source": [
    "### Questão 4 – O Modelo para um Leigo\n",
    "*Em um ou dois parágrafos, explique para o conselho de supervisores, utilizando termos leigos, como o modelo final escolhido deve trabalhar. Tenha certeza que você esteja descrevendo as melhores qualidades do modelo, por exemplo, como o modelo é treinado e como ele faz uma estimativa. Evite jargões técnicos ou matemáticos, como descrever equações ou discutir a implementação do algoritmo.*"
   ]
  },
  {
   "cell_type": "markdown",
   "metadata": {
    "colab_type": "text",
    "id": "SVdAavS9f37k"
   },
   "source": [
    "**Resposta: **\n",
    "\n",
    "Na regressão linear, cada observação é utilizada para encontrar uma função matemática, uma curva, que correlaciona os valores das observações com os valores de uma variável alvo. A regressão logística funciona de forma semelhante, porém ao invés de uma variável alvo, a função nos retorna a _probabilidade_ que cada observação tem de pertencer ou não a uma classe. As observações são utilizadas para encontrar os coeficientes dessa função. Depois que tivermos os coeficientes, podemos prever qual a classe mais provável para uma nova observação.\n",
    "\n",
    "Este modelo tem a qualidade de ser computacionalmente pouco exigente simples - ele utiliza uma função matemática predeterminada, a função logística, bastando somente encontrar alguns coeficientes para ela, inclusive em situações onde hajam várias características diferentes ao mesmo tempo (dados multidimensionais)."
   ]
  },
  {
   "cell_type": "markdown",
   "metadata": {
    "colab_type": "text",
    "id": "SWXhgjgRf37u"
   },
   "source": [
    "### Implementação: Calibrando o Modelo (_Tuning_)\n",
    "Calibre o modelo escolhido. Utilize busca em matriz (`GridSearchCV`) com, pelo menos, um parâmetro importante calibrado com, pelo menos, 3 valores diferentes. Você vai precisar utilizar todo o conjunto de treinamento para isso. Na célula de código abaixo, você deve implementar o seguinte:\n",
    "- Importe [`sklearn.grid_search.gridSearchCV`](http://scikit-learn.org/stable/modules/generated/sklearn.grid_search.GridSearchCV.html) e [`sklearn.metrics.make_scorer`](http://scikit-learn.org/stable/modules/generated/sklearn.metrics.make_scorer.html).\n",
    "- Crie o dicionário de parâmetros que você deseja calibrar para o modelo escolhido.\n",
    " - Examplo: `parameters = {'parameter' : [list of values]}`.\n",
    "- Inicialize o classificador que você escolheu e armazene-o em `clf`.\n",
    "- Crie a função de pontuação F<sub>1</sub> utilizando `make_scorer` e armazene-o em `f1_scorer`.\n",
    " - Estabeleça o parâmetro `pos_label` para o valor correto!\n",
    "- Execute uma busca em matriz no classificador `clf` utilizando o `f1_scorer` como método de pontuação e armazene-o em `grid_obj`.\n",
    "- Treine o objeto de busca em matriz com os dados de treinamento (`X_train`, `y_train`) e armazene-o em `grid_obj`."
   ]
  },
  {
   "cell_type": "code",
   "execution_count": 9,
   "metadata": {
    "colab": {
     "autoexec": {
      "startup": false,
      "wait_interval": 0
     },
     "base_uri": "https://localhost:8080/",
     "height": 85
    },
    "colab_type": "code",
    "executionInfo": {
     "elapsed": 1759,
     "status": "ok",
     "timestamp": 1527558419263,
     "user": {
      "displayName": "Renato Gavioli",
      "photoUrl": "//lh5.googleusercontent.com/-2XV18Rk-QvQ/AAAAAAAAAAI/AAAAAAAAAH8/4WHQdmp2vqg/s50-c-k-no/photo.jpg",
      "userId": "104163749637505925630"
     },
     "user_tz": 180
    },
    "id": "XqtlMv1ef37x",
    "outputId": "aa4108a4-7713-4546-cf0a-01b8da53410f"
   },
   "outputs": [
    {
     "name": "stdout",
     "output_type": "stream",
     "text": [
      "As previsões foram feitas em 0.0000 segundos.\n",
      "O modelo calibrado tem F1 de 0.8323 no conjunto de treinamento.\n",
      "As previsões foram feitas em 0.0000 segundos.\n",
      "O modelo calibrado tem F1 de 0.7891 no conjunto de teste.\n"
     ]
    }
   ],
   "source": [
    "# Importe 'GridSearchCV' e 'make_scorer'\n",
    "from sklearn.model_selection import GridSearchCV\n",
    "from sklearn.metrics import make_scorer, f1_score\n",
    "from sklearn.linear_model import LogisticRegression\n",
    "\n",
    "# Crie a lista de parâmetros que você gostaria de calibrar\n",
    "parameters = {\n",
    "    'penalty' : ['l1', 'l2'],\n",
    "    'C' : [0.01, 0.05, 0.1, 0.3, 0.5, 0.7, 1, 5, 10, 50, 100]\n",
    "#    'C' : [0.5]\n",
    "}\n",
    "\n",
    "# Inicialize o classificador\n",
    "clf = LogisticRegression()\n",
    "\n",
    "# Faça uma função de pontuação f1 utilizando 'make_scorer' \n",
    "f1_scorer = make_scorer(f1_score, pos_label='yes')\n",
    "\n",
    "# Execute uma busca em matriz no classificador utilizando o f1_scorer como método de pontuação\n",
    "grid_obj = GridSearchCV(clf, param_grid=parameters, scoring=f1_scorer)\n",
    "\n",
    "# Ajuste o objeto de busca em matriz para o treinamento de dados e encontre os parâmetros ótimos\n",
    "grid_obj = grid_obj.fit(X_train, y_train)\n",
    "\n",
    "# Atribui ao classificador o melhor estimador obtido pela busca em matriz\n",
    "clf = grid_obj.best_estimator_\n",
    "\n",
    "# Reporte a pontuação final F1 para treinamento e teste depois de calibrar os parâmetrosprint \"Tuned model has a training F1 score of {:.4f}.\".format(predict_labels(clf, X_train, y_train))\n",
    "print \"O modelo calibrado tem F1 de {:.4f} no conjunto de treinamento.\".format(predict_labels(clf, X_train, y_train))\n",
    "print \"O modelo calibrado tem F1 de {:.4f} no conjunto de teste.\".format(predict_labels(clf, X_test, y_test))\n"
   ]
  },
  {
   "cell_type": "markdown",
   "metadata": {
    "colab_type": "text",
    "id": "SKirDmTcf38D"
   },
   "source": [
    "### Questão 5 - Pontuação F<sub>1</sub> Final\n",
    "*Qual é a pontuação F<sub>1</sub> do modelo final para treinamento e teste? Como ele se compara ao modelo que não foi calibrado?*"
   ]
  },
  {
   "cell_type": "markdown",
   "metadata": {
    "colab_type": "text",
    "id": "1LtjszBEf38W"
   },
   "source": [
    "**Resposta: **\n",
    "\n",
    "A pontuação final foi de 0.8323 no conjunto de treinamento, e de 0.7891 no conjunto de teste. Os valores obtidos foram inferiores aos obtidos para o modelo não calibradom. \n",
    "\n",
    "Este resultado inicialmene levantou suspeitas sobre a validade do modelo, porém uma consulta aos escores obtidos para os conjuntos de hiperparâmetros na busca em matriz (vide célula abaico) mostrou que o modelo calibrado realmente apresenta desempenho superior aos demais.\n",
    "\n",
    "É possível que esta diferença de escore seja devida aos tamanhos muito pequenos de amostra, consequencia do uso de validação cruzada 3-fold durante a busca em matriz, e agravadas pela natureza do dataset (somente 395 observações). Na avaliação são utilizados conjuntos de dados maiores, e essa diferença pode induzir aos desvios [REF: https://stackoverflow.com/questions/49811885/why-is-my-mean-test-score-at-parameter-tuning-cv-lower-than-on-hold-out-test-s]\n",
    "\n"
   ]
  },
  {
   "cell_type": "code",
   "execution_count": 10,
   "metadata": {
    "colab": {
     "autoexec": {
      "startup": false,
      "wait_interval": 0
     },
     "base_uri": "https://localhost:8080/",
     "height": 731
    },
    "colab_type": "code",
    "executionInfo": {
     "elapsed": 637,
     "status": "ok",
     "timestamp": 1527558980303,
     "user": {
      "displayName": "Renato Gavioli",
      "photoUrl": "//lh5.googleusercontent.com/-2XV18Rk-QvQ/AAAAAAAAAAI/AAAAAAAAAH8/4WHQdmp2vqg/s50-c-k-no/photo.jpg",
      "userId": "104163749637505925630"
     },
     "user_tz": 180
    },
    "id": "HCwicJDHrWbW",
    "outputId": "04fe539f-91bb-47c8-d022-b3c9809a0141"
   },
   "outputs": [
    {
     "name": "stderr",
     "output_type": "stream",
     "text": [
      "C:\\Users\\cotolino\\Anaconda3\\envs\\py27\\lib\\site-packages\\sklearn\\utils\\deprecation.py:122: FutureWarning: You are accessing a training score ('mean_train_score'), which will not be available by default any more in 0.21. If you need training scores, please set return_train_score=True\n",
      "  warnings.warn(*warn_args, **warn_kwargs)\n",
      "C:\\Users\\cotolino\\Anaconda3\\envs\\py27\\lib\\site-packages\\sklearn\\utils\\deprecation.py:122: FutureWarning: You are accessing a training score ('split0_train_score'), which will not be available by default any more in 0.21. If you need training scores, please set return_train_score=True\n",
      "  warnings.warn(*warn_args, **warn_kwargs)\n",
      "C:\\Users\\cotolino\\Anaconda3\\envs\\py27\\lib\\site-packages\\sklearn\\utils\\deprecation.py:122: FutureWarning: You are accessing a training score ('split1_train_score'), which will not be available by default any more in 0.21. If you need training scores, please set return_train_score=True\n",
      "  warnings.warn(*warn_args, **warn_kwargs)\n",
      "C:\\Users\\cotolino\\Anaconda3\\envs\\py27\\lib\\site-packages\\sklearn\\utils\\deprecation.py:122: FutureWarning: You are accessing a training score ('split2_train_score'), which will not be available by default any more in 0.21. If you need training scores, please set return_train_score=True\n",
      "  warnings.warn(*warn_args, **warn_kwargs)\n",
      "C:\\Users\\cotolino\\Anaconda3\\envs\\py27\\lib\\site-packages\\sklearn\\utils\\deprecation.py:122: FutureWarning: You are accessing a training score ('std_train_score'), which will not be available by default any more in 0.21. If you need training scores, please set return_train_score=True\n",
      "  warnings.warn(*warn_args, **warn_kwargs)\n"
     ]
    },
    {
     "data": {
      "text/html": [
       "<div>\n",
       "<style scoped>\n",
       "    .dataframe tbody tr th:only-of-type {\n",
       "        vertical-align: middle;\n",
       "    }\n",
       "\n",
       "    .dataframe tbody tr th {\n",
       "        vertical-align: top;\n",
       "    }\n",
       "\n",
       "    .dataframe thead th {\n",
       "        text-align: right;\n",
       "    }\n",
       "</style>\n",
       "<table border=\"1\" class=\"dataframe\">\n",
       "  <thead>\n",
       "    <tr style=\"text-align: right;\">\n",
       "      <th></th>\n",
       "      <th>param_C</th>\n",
       "      <th>param_penalty</th>\n",
       "      <th>rank_test_score</th>\n",
       "      <th>mean_test_score</th>\n",
       "      <th>mean_train_score</th>\n",
       "    </tr>\n",
       "  </thead>\n",
       "  <tbody>\n",
       "    <tr>\n",
       "      <th>0</th>\n",
       "      <td>0.01</td>\n",
       "      <td>l1</td>\n",
       "      <td>6</td>\n",
       "      <td>0.811878</td>\n",
       "      <td>0.811883</td>\n",
       "    </tr>\n",
       "    <tr>\n",
       "      <th>1</th>\n",
       "      <td>0.01</td>\n",
       "      <td>l2</td>\n",
       "      <td>4</td>\n",
       "      <td>0.813622</td>\n",
       "      <td>0.817667</td>\n",
       "    </tr>\n",
       "    <tr>\n",
       "      <th>2</th>\n",
       "      <td>0.05</td>\n",
       "      <td>l1</td>\n",
       "      <td>5</td>\n",
       "      <td>0.812732</td>\n",
       "      <td>0.812689</td>\n",
       "    </tr>\n",
       "    <tr>\n",
       "      <th>3</th>\n",
       "      <td>0.05</td>\n",
       "      <td>l2</td>\n",
       "      <td>2</td>\n",
       "      <td>0.822224</td>\n",
       "      <td>0.836541</td>\n",
       "    </tr>\n",
       "    <tr>\n",
       "      <th>4</th>\n",
       "      <td>0.1</td>\n",
       "      <td>l1</td>\n",
       "      <td>1</td>\n",
       "      <td>0.830522</td>\n",
       "      <td>0.826288</td>\n",
       "    </tr>\n",
       "    <tr>\n",
       "      <th>5</th>\n",
       "      <td>0.1</td>\n",
       "      <td>l2</td>\n",
       "      <td>3</td>\n",
       "      <td>0.818145</td>\n",
       "      <td>0.846665</td>\n",
       "    </tr>\n",
       "    <tr>\n",
       "      <th>6</th>\n",
       "      <td>0.3</td>\n",
       "      <td>l1</td>\n",
       "      <td>7</td>\n",
       "      <td>0.808552</td>\n",
       "      <td>0.837455</td>\n",
       "    </tr>\n",
       "    <tr>\n",
       "      <th>7</th>\n",
       "      <td>0.3</td>\n",
       "      <td>l2</td>\n",
       "      <td>8</td>\n",
       "      <td>0.802516</td>\n",
       "      <td>0.862568</td>\n",
       "    </tr>\n",
       "    <tr>\n",
       "      <th>8</th>\n",
       "      <td>0.5</td>\n",
       "      <td>l1</td>\n",
       "      <td>13</td>\n",
       "      <td>0.796451</td>\n",
       "      <td>0.847769</td>\n",
       "    </tr>\n",
       "    <tr>\n",
       "      <th>9</th>\n",
       "      <td>0.5</td>\n",
       "      <td>l2</td>\n",
       "      <td>11</td>\n",
       "      <td>0.798031</td>\n",
       "      <td>0.860693</td>\n",
       "    </tr>\n",
       "    <tr>\n",
       "      <th>10</th>\n",
       "      <td>0.7</td>\n",
       "      <td>l1</td>\n",
       "      <td>9</td>\n",
       "      <td>0.801669</td>\n",
       "      <td>0.851111</td>\n",
       "    </tr>\n",
       "    <tr>\n",
       "      <th>11</th>\n",
       "      <td>0.7</td>\n",
       "      <td>l2</td>\n",
       "      <td>10</td>\n",
       "      <td>0.798946</td>\n",
       "      <td>0.859743</td>\n",
       "    </tr>\n",
       "    <tr>\n",
       "      <th>12</th>\n",
       "      <td>1</td>\n",
       "      <td>l1</td>\n",
       "      <td>14</td>\n",
       "      <td>0.790748</td>\n",
       "      <td>0.853610</td>\n",
       "    </tr>\n",
       "    <tr>\n",
       "      <th>13</th>\n",
       "      <td>1</td>\n",
       "      <td>l2</td>\n",
       "      <td>12</td>\n",
       "      <td>0.796888</td>\n",
       "      <td>0.859741</td>\n",
       "    </tr>\n",
       "    <tr>\n",
       "      <th>14</th>\n",
       "      <td>5</td>\n",
       "      <td>l1</td>\n",
       "      <td>15</td>\n",
       "      <td>0.780714</td>\n",
       "      <td>0.854769</td>\n",
       "    </tr>\n",
       "    <tr>\n",
       "      <th>15</th>\n",
       "      <td>5</td>\n",
       "      <td>l2</td>\n",
       "      <td>15</td>\n",
       "      <td>0.780714</td>\n",
       "      <td>0.854099</td>\n",
       "    </tr>\n",
       "    <tr>\n",
       "      <th>16</th>\n",
       "      <td>10</td>\n",
       "      <td>l1</td>\n",
       "      <td>18</td>\n",
       "      <td>0.776195</td>\n",
       "      <td>0.850416</td>\n",
       "    </tr>\n",
       "    <tr>\n",
       "      <th>17</th>\n",
       "      <td>10</td>\n",
       "      <td>l2</td>\n",
       "      <td>15</td>\n",
       "      <td>0.780714</td>\n",
       "      <td>0.852433</td>\n",
       "    </tr>\n",
       "    <tr>\n",
       "      <th>18</th>\n",
       "      <td>50</td>\n",
       "      <td>l1</td>\n",
       "      <td>19</td>\n",
       "      <td>0.772397</td>\n",
       "      <td>0.850111</td>\n",
       "    </tr>\n",
       "    <tr>\n",
       "      <th>19</th>\n",
       "      <td>50</td>\n",
       "      <td>l2</td>\n",
       "      <td>20</td>\n",
       "      <td>0.770590</td>\n",
       "      <td>0.849113</td>\n",
       "    </tr>\n",
       "    <tr>\n",
       "      <th>20</th>\n",
       "      <td>100</td>\n",
       "      <td>l1</td>\n",
       "      <td>20</td>\n",
       "      <td>0.770590</td>\n",
       "      <td>0.851444</td>\n",
       "    </tr>\n",
       "    <tr>\n",
       "      <th>21</th>\n",
       "      <td>100</td>\n",
       "      <td>l2</td>\n",
       "      <td>20</td>\n",
       "      <td>0.770590</td>\n",
       "      <td>0.850111</td>\n",
       "    </tr>\n",
       "  </tbody>\n",
       "</table>\n",
       "</div>"
      ],
      "text/plain": [
       "   param_C param_penalty  rank_test_score  mean_test_score  mean_train_score\n",
       "0     0.01            l1                6         0.811878          0.811883\n",
       "1     0.01            l2                4         0.813622          0.817667\n",
       "2     0.05            l1                5         0.812732          0.812689\n",
       "3     0.05            l2                2         0.822224          0.836541\n",
       "4      0.1            l1                1         0.830522          0.826288\n",
       "5      0.1            l2                3         0.818145          0.846665\n",
       "6      0.3            l1                7         0.808552          0.837455\n",
       "7      0.3            l2                8         0.802516          0.862568\n",
       "8      0.5            l1               13         0.796451          0.847769\n",
       "9      0.5            l2               11         0.798031          0.860693\n",
       "10     0.7            l1                9         0.801669          0.851111\n",
       "11     0.7            l2               10         0.798946          0.859743\n",
       "12       1            l1               14         0.790748          0.853610\n",
       "13       1            l2               12         0.796888          0.859741\n",
       "14       5            l1               15         0.780714          0.854769\n",
       "15       5            l2               15         0.780714          0.854099\n",
       "16      10            l1               18         0.776195          0.850416\n",
       "17      10            l2               15         0.780714          0.852433\n",
       "18      50            l1               19         0.772397          0.850111\n",
       "19      50            l2               20         0.770590          0.849113\n",
       "20     100            l1               20         0.770590          0.851444\n",
       "21     100            l2               20         0.770590          0.850111"
      ]
     },
     "execution_count": 10,
     "metadata": {},
     "output_type": "execute_result"
    }
   ],
   "source": [
    "pd.DataFrame(grid_obj.cv_results_)[['param_C', 'param_penalty', 'rank_test_score', 'mean_test_score', 'mean_train_score']]\n"
   ]
  },
  {
   "cell_type": "markdown",
   "metadata": {
    "colab_type": "text",
    "id": "i1900Lqqf38b"
   },
   "source": [
    "> **Nota**: Uma vez que você completou todas as implementações de código e respondeu todas as questões acima com êxito, você pode finalizar seu trabalho exportando o iPython Nothebook como um document HTML. Você pode fazer isso utilizando o menu acima e navegando para  \n",
    "**File -> Download as -> HTML (.html)**. Inclua a documentação final junto com o notebook para o envio do seu projeto."
   ]
  }
 ],
 "metadata": {
  "colab": {
   "collapsed_sections": [],
   "default_view": {},
   "name": "student_intervention_PT.ipynb",
   "provenance": [],
   "version": "0.3.2",
   "views": {}
  },
  "kernelspec": {
   "display_name": "Python 2",
   "language": "python",
   "name": "python2"
  },
  "language_info": {
   "codemirror_mode": {
    "name": "ipython",
    "version": 2
   },
   "file_extension": ".py",
   "mimetype": "text/x-python",
   "name": "python",
   "nbconvert_exporter": "python",
   "pygments_lexer": "ipython2",
   "version": "2.7.15"
  }
 },
 "nbformat": 4,
 "nbformat_minor": 1
}
